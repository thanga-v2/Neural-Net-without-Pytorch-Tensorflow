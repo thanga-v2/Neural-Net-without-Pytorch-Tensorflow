{
  "nbformat": 4,
  "nbformat_minor": 0,
  "metadata": {
    "colab": {
      "private_outputs": true,
      "provenance": [],
      "authorship_tag": "ABX9TyMrXyvev9hMJjBguBYn5qko",
      "include_colab_link": true
    },
    "kernelspec": {
      "name": "python3",
      "display_name": "Python 3"
    },
    "language_info": {
      "name": "python"
    }
  },
  "cells": [
    {
      "cell_type": "markdown",
      "metadata": {
        "id": "view-in-github",
        "colab_type": "text"
      },
      "source": [
        "<a href=\"https://colab.research.google.com/github/thanga-v2/Neural-Net-without-Pytorch-Tensorflow/blob/main/nn.ipynb\" target=\"_parent\"><img src=\"https://colab.research.google.com/assets/colab-badge.svg\" alt=\"Open In Colab\"/></a>"
      ]
    },
    {
      "cell_type": "code",
      "execution_count": null,
      "metadata": {
        "id": "Hfn5VxLVAhT0"
      },
      "outputs": [],
      "source": [
        "import numpy as np\n",
        "a = np.zeros([3,5])\n",
        "a"
      ]
    },
    {
      "cell_type": "code",
      "source": [
        "a[0,0] = 1\n",
        "a[1,3] = 8\n",
        "a[1,4] = 2\n",
        "a[0,4] = 6\n",
        "a[0,3] = 7"
      ],
      "metadata": {
        "id": "3CgIQHKuBDQ4"
      },
      "execution_count": null,
      "outputs": []
    },
    {
      "cell_type": "code",
      "source": [
        "a"
      ],
      "metadata": {
        "id": "Mlz9GYgyBWpn"
      },
      "execution_count": null,
      "outputs": []
    },
    {
      "cell_type": "code",
      "source": [
        "print(a[1,3])"
      ],
      "metadata": {
        "id": "nXDqI7aTBe_d"
      },
      "execution_count": null,
      "outputs": []
    },
    {
      "cell_type": "code",
      "source": [
        "import matplotlib.pyplot as plt\n",
        "%matplotlib inline\n",
        "plt.imshow(a)"
      ],
      "metadata": {
        "id": "ljWqMuItCcjQ"
      },
      "execution_count": null,
      "outputs": []
    },
    {
      "cell_type": "code",
      "source": [
        "plt.imshow(a, interpolation='nearest')"
      ],
      "metadata": {
        "id": "QVVeOoTXCqOJ"
      },
      "execution_count": null,
      "outputs": []
    },
    {
      "cell_type": "code",
      "source": [
        "class Dog:\n",
        "  def func(self):\n",
        "    print(\"woof\")\n",
        "    pass\n",
        "\n",
        "pass"
      ],
      "metadata": {
        "id": "CIbzd6OuDAw1"
      },
      "execution_count": null,
      "outputs": []
    },
    {
      "cell_type": "code",
      "source": [
        "sizzles = Dog()"
      ],
      "metadata": {
        "id": "EsWZqFESDUuS"
      },
      "execution_count": null,
      "outputs": []
    },
    {
      "cell_type": "code",
      "source": [
        "sizzles.func()"
      ],
      "metadata": {
        "id": "bYhmX-GRDXJl"
      },
      "execution_count": null,
      "outputs": []
    },
    {
      "cell_type": "code",
      "source": [
        "class Dog:\n",
        "  def __init__(self):\n",
        "    print(\"do something\")\n",
        "    pass"
      ],
      "metadata": {
        "id": "K2dQK5zsFSQl"
      },
      "execution_count": null,
      "outputs": []
    },
    {
      "cell_type": "code",
      "source": [
        "test = Dog()"
      ],
      "metadata": {
        "id": "BvXtJGusFbAv"
      },
      "execution_count": null,
      "outputs": []
    },
    {
      "cell_type": "code",
      "source": [
        "class Dog:\n",
        "  def __init__(self, name, breed):\n",
        "\n",
        "    self.petname = name,\n",
        "    self.breedname = breed,\n",
        "    print(\"do something\")\n",
        "\n",
        "  def _test(self):\n",
        "      print(\"the breed is \", self.breedname)\n",
        ""
      ],
      "metadata": {
        "id": "HFTsY_akFfGm"
      },
      "execution_count": null,
      "outputs": []
    },
    {
      "cell_type": "code",
      "source": [
        "test = Dog(\"hg\",\"lk\")"
      ],
      "metadata": {
        "id": "uVx04OEyFsNw"
      },
      "execution_count": null,
      "outputs": []
    },
    {
      "cell_type": "code",
      "source": [
        "test._test()"
      ],
      "metadata": {
        "id": "JiiEtuY4Fv1y"
      },
      "execution_count": null,
      "outputs": []
    },
    {
      "cell_type": "markdown",
      "source": [
        "Initialization -> to set the number of input, hidden and output nodes\n",
        "\n",
        "train -> refine the weights after being given training set examples to learn from\n",
        "\n",
        "query -> given an answer from the output node after given input\n"
      ],
      "metadata": {
        "id": "7QOBNxiIIqGg"
      }
    },
    {
      "cell_type": "code",
      "source": [
        "class NeuralNetwork:\n",
        "  def __init__(self, inputnodes, hiddennodes, outputnodes, learningrate):\n",
        "    self.inodes = inputnodes\n",
        "    self.hnodes = hiddennodes\n",
        "    self.onodes = outputnodes\n",
        "    self.lr = learningrate\n",
        "    pass\n",
        "  def test(self):\n",
        "    pass\n",
        "  def train():\n",
        "    pass\n",
        "  def query():\n",
        "    pass"
      ],
      "metadata": {
        "id": "Il7wGk8RJBYJ"
      },
      "execution_count": null,
      "outputs": []
    },
    {
      "cell_type": "markdown",
      "source": [
        "input nodes = 3\n",
        "\n",
        "hidden nodes = 3\n",
        "\n",
        "output nodes = 3\n",
        "\n",
        "learning rate = 0.5\n"
      ],
      "metadata": {
        "id": "7f5w4ymYKA3Q"
      }
    },
    {
      "cell_type": "code",
      "source": [
        "nn = NeuralNetwork(3,3,3,0.5)"
      ],
      "metadata": {
        "id": "4SiWKdR0KI_V"
      },
      "execution_count": null,
      "outputs": []
    },
    {
      "cell_type": "code",
      "source": [
        "nn.inodes"
      ],
      "metadata": {
        "id": "BkFKXHSUKRre"
      },
      "execution_count": null,
      "outputs": []
    },
    {
      "cell_type": "code",
      "source": [
        "nn.hnodes"
      ],
      "metadata": {
        "id": "ZZkrytcRKXNN"
      },
      "execution_count": null,
      "outputs": []
    },
    {
      "cell_type": "code",
      "source": [
        "nn.lr"
      ],
      "metadata": {
        "id": "YtB12X7VKYpr"
      },
      "execution_count": null,
      "outputs": []
    },
    {
      "cell_type": "code",
      "source": [
        "nn.onodes"
      ],
      "metadata": {
        "id": "IG_Yln1IKZ7b"
      },
      "execution_count": null,
      "outputs": []
    }
  ]
}